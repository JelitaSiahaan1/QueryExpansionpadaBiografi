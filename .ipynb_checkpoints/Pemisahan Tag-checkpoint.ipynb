{
 "cells": [
  {
   "cell_type": "code",
   "execution_count": 2,
   "metadata": {},
   "outputs": [],
   "source": [
    "from nltk import tokenize, word_tokenize\n",
    "import re\n",
    "import string\n",
    "from nltk.tag import CRFTagger\n",
    "from nltk.corpus import stopwords\n",
    "\n",
    "# text = ''.join(open ('erd.txt').readlines())\n",
    "# sentence = re.split(r' *[\\.\\?!][\\'\"\\)\\]]* *', text)\n",
    "\n",
    "def sentencesegmentation(text):\n",
    "    sentence = re.split(r' *[\\.\\?!][\\'\"\\)\\]]* *', text)\n",
    "    li = []\n",
    "    for i in sentence:\n",
    "        data = []\n",
    "        if len(i) != 0: data.append(i)\n",
    "        if len(data) != 0: li.append(data)\n",
    "\n",
    "    return li    \n",
    "#     print(li)\n",
    "\n",
    "# def sentencesegmentation(text):\n",
    "#     sentence = re.split(r' *[\\.\\?!][\\'\"\\)\\]]* *', text)\n",
    "# li = []\n",
    "# for i in sentence:\n",
    "#     data = []\n",
    "#     if len(i) != 0: data.append(i)\n",
    "#     if len(data) != 0: li.append(data)\n",
    "    \n",
    "# return li\n",
    "\n",
    "\n",
    "def tokenization(list):\n",
    "    trans = str.maketrans('','',string.punctuation)\n",
    "    datas = []\n",
    "    for kalimat in list:\n",
    "        for line in kalimat:\n",
    "            line = ''.join([i for i in line if not i.isdigit()])\n",
    "            line = re.sub('r ^ https ?:\\/\\/.*[\\r\\n]*','',line,flags = re.MULTILINE)\n",
    "            line = line.translate(trans)\n",
    "            line = word_tokenize(line)\n",
    "            datas.append(line)\n",
    "    return datas\n",
    "    \n",
    "    print(datas)\n",
    "\n",
    "def casefolding(list):\n",
    "    datas = []\n",
    "    for kalimat in list:\n",
    "        for line in kalimat:\n",
    "            x = line.lower()\n",
    "            datas.append(x)\n",
    "    return datas\n",
    "\n",
    "\n",
    "def stpword(list):\n",
    "    stop_words = set(stopwords.words('indonesian'))\n",
    "    filtered_sentences = [w for w in list if not w in stop_words]\n",
    "    return filtered_sentences\n",
    "\n",
    "    \n",
    "def stword(list):\n",
    "    datas = []\n",
    "    factory = StopWordRemoverFactory()\n",
    "    stopword = factory.create_stop_word_remover()\n",
    "    for kalimat in list:\n",
    "        for line in kalimat:\n",
    "            y = []\n",
    "            for kata in line:\n",
    "                stop = stopword.remove(kata)\n",
    "                y.append(stop)\n",
    "            datas.append(y)\n",
    "    return datas\n",
    "    \n",
    "def postag(list):\n",
    "    ct = CRFTagger()\n",
    "    ct.set_model_file('all_indo_man_tag_corpus_model.crf.tagger')        \n",
    "    post = ct.tag_sents([(list)])\n",
    "    return post\n",
    "\n",
    "      "
   ]
  },
  {
   "cell_type": "code",
   "execution_count": 3,
   "metadata": {},
   "outputs": [],
   "source": [
    "file_contents = 'Mahasiswa mendaftar menjadi anggota_perpustakaan dengan mencatat tanggal pendaftaran, jenis_kelamin, nama, nim, alamat, prodi dan fakultas. Petugas_perpustakaan akan mencetak kartu anggota_perpustakaan (KAP) untuk anggota_perpustakaan. KAP berisi nama, nim, prodi dan fakultas mahasiwa. Mahasiswa yang telah memiliki KAP dapat melakukan peminjaman dan pengembalian buku. Setiap buku memiliki judul, penerbit, pengarang dan nomor induk buku. Petugas_perpustakaan mencatat detail buku, tanggal peminjaman dan tanggal pengembalian buku. bebas lah ya mo buat apa dulu.'\n",
    "hasilsegmentasi =sentencesegmentation(file_contents)\n",
    "token =tokenization(hasilsegmentasi)\n",
    "#token = preprocessing.casefolding(token)\n",
    "casf = casefolding(token)\n",
    "stopword =stpword(casf)\n",
    "post = postag(stopword)"
   ]
  },
  {
   "cell_type": "code",
   "execution_count": 4,
   "metadata": {},
   "outputs": [],
   "source": [
    "def classification_based_tag(post):\n",
    "    dicts = {}\n",
    "    for i in range(len(post)):\n",
    "        for k in range(len(post[i])):\n",
    "            if post[i][k][1] not in dicts.keys():\n",
    "                dicts[post[i][k][1]] = ''\n",
    "    for z in dicts.keys():\n",
    "        temp_post = []\n",
    "        for i in range(len(post)):\n",
    "            for k in range(len(post[i])):\n",
    "                if post[i][k][1] == z:\n",
    "                    temp_post.append(post[i][k][0])\n",
    "            dicts[z] = temp_post\n",
    "    return dicts"
   ]
  },
  {
   "cell_type": "code",
   "execution_count": 5,
   "metadata": {},
   "outputs": [
    {
     "name": "stdout",
     "output_type": "stream",
     "text": [
      "[[('mahasiswa', 'NN'), ('mendaftar', 'IN'), ('anggotaperpustakaan', 'NN'), ('mencatat', 'VB'), ('tanggal', 'NN'), ('pendaftaran', 'NN'), ('jeniskelamin', 'NN'), ('nama', 'NN'), ('nim', 'NN'), ('alamat', 'NN'), ('prodi', 'NN'), ('fakultas', 'NN'), ('petugasperpustakaan', 'NN'), ('mencetak', 'NN'), ('kartu', 'NN'), ('anggotaperpustakaan', 'NN'), ('kap', 'VB'), ('anggotaperpustakaan', 'NN'), ('kap', 'VB'), ('berisi', 'NN'), ('nama', 'NN'), ('nim', 'NN'), ('prodi', 'NN'), ('fakultas', 'NN'), ('mahasiwa', 'NN'), ('mahasiswa', 'NN'), ('memiliki', 'VB'), ('kap', 'VB'), ('peminjaman', 'NN'), ('pengembalian', 'NN'), ('buku', 'NN'), ('buku', 'NN'), ('memiliki', 'VB'), ('judul', 'NN'), ('penerbit', 'NN'), ('pengarang', 'NN'), ('nomor', 'NN'), ('induk', 'NN'), ('buku', 'NN'), ('petugasperpustakaan', 'NN'), ('mencatat', 'VB'), ('detail', 'NN'), ('buku', 'NN'), ('tanggal', 'NN'), ('peminjaman', 'NN'), ('tanggal', 'NN'), ('pengembalian', 'NN'), ('buku', 'NN'), ('bebas', 'JJ'), ('ya', 'NN'), ('mo', 'NNP')]]\n"
     ]
    }
   ],
   "source": [
    "print (post)"
   ]
  },
  {
   "cell_type": "code",
   "execution_count": 6,
   "metadata": {},
   "outputs": [
    {
     "data": {
      "text/plain": [
       "{'NN': ['mahasiswa',\n",
       "  'anggotaperpustakaan',\n",
       "  'tanggal',\n",
       "  'pendaftaran',\n",
       "  'jeniskelamin',\n",
       "  'nama',\n",
       "  'nim',\n",
       "  'alamat',\n",
       "  'prodi',\n",
       "  'fakultas',\n",
       "  'petugasperpustakaan',\n",
       "  'mencetak',\n",
       "  'kartu',\n",
       "  'anggotaperpustakaan',\n",
       "  'anggotaperpustakaan',\n",
       "  'berisi',\n",
       "  'nama',\n",
       "  'nim',\n",
       "  'prodi',\n",
       "  'fakultas',\n",
       "  'mahasiwa',\n",
       "  'mahasiswa',\n",
       "  'peminjaman',\n",
       "  'pengembalian',\n",
       "  'buku',\n",
       "  'buku',\n",
       "  'judul',\n",
       "  'penerbit',\n",
       "  'pengarang',\n",
       "  'nomor',\n",
       "  'induk',\n",
       "  'buku',\n",
       "  'petugasperpustakaan',\n",
       "  'detail',\n",
       "  'buku',\n",
       "  'tanggal',\n",
       "  'peminjaman',\n",
       "  'tanggal',\n",
       "  'pengembalian',\n",
       "  'buku',\n",
       "  'ya'],\n",
       " 'IN': ['mendaftar'],\n",
       " 'VB': ['mencatat', 'kap', 'kap', 'memiliki', 'kap', 'memiliki', 'mencatat'],\n",
       " 'JJ': ['bebas'],\n",
       " 'NNP': ['mo']}"
      ]
     },
     "execution_count": 6,
     "metadata": {},
     "output_type": "execute_result"
    }
   ],
   "source": [
    "aku = classification_based_tag(post)\n",
    "aku"
   ]
  },
  {
   "cell_type": "code",
   "execution_count": 7,
   "metadata": {},
   "outputs": [
    {
     "name": "stdout",
     "output_type": "stream",
     "text": [
      "['mahasiswa', 'anggotaperpustakaan', 'tanggal', 'pendaftaran', 'jeniskelamin', 'nama', 'nim', 'alamat', 'prodi', 'fakultas', 'petugasperpustakaan', 'mencetak', 'kartu', 'anggotaperpustakaan', 'anggotaperpustakaan', 'berisi', 'nama', 'nim', 'prodi', 'fakultas', 'mahasiwa', 'mahasiswa', 'peminjaman', 'pengembalian', 'buku', 'buku', 'judul', 'penerbit', 'pengarang', 'nomor', 'induk', 'buku', 'petugasperpustakaan', 'detail', 'buku', 'tanggal', 'peminjaman', 'tanggal', 'pengembalian', 'buku', 'ya']\n",
      "['mendaftar']\n",
      "['mencatat', 'kap', 'kap', 'memiliki', 'kap', 'memiliki', 'mencatat']\n",
      "['bebas']\n",
      "['mo']\n"
     ]
    }
   ],
   "source": [
    "for keys,values in aku.items():\n",
    "    print(values)"
   ]
  },
  {
   "cell_type": "code",
   "execution_count": 10,
   "metadata": {},
   "outputs": [
    {
     "name": "stdout",
     "output_type": "stream",
     "text": [
      "NN\n",
      "IN\n",
      "VB\n",
      "JJ\n",
      "NNP\n"
     ]
    }
   ],
   "source": [
    "for keys,values in aku.items():\n",
    "    print(keys)"
   ]
  },
  {
   "cell_type": "code",
   "execution_count": 12,
   "metadata": {},
   "outputs": [
    {
     "name": "stdout",
     "output_type": "stream",
     "text": [
      "{'NN': ['mahasiswa', 'anggotaperpustakaan', 'tanggal', 'pendaftaran', 'jeniskelamin', 'nama', 'nim', 'alamat', 'prodi', 'fakultas', 'petugasperpustakaan', 'mencetak', 'kartu', 'anggotaperpustakaan', 'anggotaperpustakaan', 'berisi', 'nama', 'nim', 'prodi', 'fakultas', 'mahasiwa', 'mahasiswa', 'peminjaman', 'pengembalian', 'buku', 'buku', 'judul', 'penerbit', 'pengarang', 'nomor', 'induk', 'buku', 'petugasperpustakaan', 'detail', 'buku', 'tanggal', 'peminjaman', 'tanggal', 'pengembalian', 'buku', 'ya'], 'IN': ['mendaftar'], 'VB': ['mencatat', 'kap', 'kap', 'memiliki', 'kap', 'memiliki', 'mencatat'], 'JJ': ['bebas'], 'NNP': ['mo']}\n",
      "{'NN': ['mahasiswa', 'anggotaperpustakaan', 'tanggal', 'pendaftaran', 'jeniskelamin', 'nama', 'nim', 'alamat', 'prodi', 'fakultas', 'petugasperpustakaan', 'mencetak', 'kartu', 'anggotaperpustakaan', 'anggotaperpustakaan', 'berisi', 'nama', 'nim', 'prodi', 'fakultas', 'mahasiwa', 'mahasiswa', 'peminjaman', 'pengembalian', 'buku', 'buku', 'judul', 'penerbit', 'pengarang', 'nomor', 'induk', 'buku', 'petugasperpustakaan', 'detail', 'buku', 'tanggal', 'peminjaman', 'tanggal', 'pengembalian', 'buku', 'ya'], 'IN': ['mendaftar'], 'VB': ['mencatat', 'kap', 'kap', 'memiliki', 'kap', 'memiliki', 'mencatat'], 'JJ': ['bebas'], 'NNP': ['mo']}\n",
      "{'NN': ['mahasiswa', 'anggotaperpustakaan', 'tanggal', 'pendaftaran', 'jeniskelamin', 'nama', 'nim', 'alamat', 'prodi', 'fakultas', 'petugasperpustakaan', 'mencetak', 'kartu', 'anggotaperpustakaan', 'anggotaperpustakaan', 'berisi', 'nama', 'nim', 'prodi', 'fakultas', 'mahasiwa', 'mahasiswa', 'peminjaman', 'pengembalian', 'buku', 'buku', 'judul', 'penerbit', 'pengarang', 'nomor', 'induk', 'buku', 'petugasperpustakaan', 'detail', 'buku', 'tanggal', 'peminjaman', 'tanggal', 'pengembalian', 'buku', 'ya'], 'IN': ['mendaftar'], 'VB': ['mencatat', 'kap', 'kap', 'memiliki', 'kap', 'memiliki', 'mencatat'], 'JJ': ['bebas'], 'NNP': ['mo']}\n",
      "{'NN': ['mahasiswa', 'anggotaperpustakaan', 'tanggal', 'pendaftaran', 'jeniskelamin', 'nama', 'nim', 'alamat', 'prodi', 'fakultas', 'petugasperpustakaan', 'mencetak', 'kartu', 'anggotaperpustakaan', 'anggotaperpustakaan', 'berisi', 'nama', 'nim', 'prodi', 'fakultas', 'mahasiwa', 'mahasiswa', 'peminjaman', 'pengembalian', 'buku', 'buku', 'judul', 'penerbit', 'pengarang', 'nomor', 'induk', 'buku', 'petugasperpustakaan', 'detail', 'buku', 'tanggal', 'peminjaman', 'tanggal', 'pengembalian', 'buku', 'ya'], 'IN': ['mendaftar'], 'VB': ['mencatat', 'kap', 'kap', 'memiliki', 'kap', 'memiliki', 'mencatat'], 'JJ': ['bebas'], 'NNP': ['mo']}\n",
      "{'NN': ['mahasiswa', 'anggotaperpustakaan', 'tanggal', 'pendaftaran', 'jeniskelamin', 'nama', 'nim', 'alamat', 'prodi', 'fakultas', 'petugasperpustakaan', 'mencetak', 'kartu', 'anggotaperpustakaan', 'anggotaperpustakaan', 'berisi', 'nama', 'nim', 'prodi', 'fakultas', 'mahasiwa', 'mahasiswa', 'peminjaman', 'pengembalian', 'buku', 'buku', 'judul', 'penerbit', 'pengarang', 'nomor', 'induk', 'buku', 'petugasperpustakaan', 'detail', 'buku', 'tanggal', 'peminjaman', 'tanggal', 'pengembalian', 'buku', 'ya'], 'IN': ['mendaftar'], 'VB': ['mencatat', 'kap', 'kap', 'memiliki', 'kap', 'memiliki', 'mencatat'], 'JJ': ['bebas'], 'NNP': ['mo']}\n"
     ]
    }
   ],
   "source": [
    "for i in dicts['NN']:\n",
    "    print(aku)"
   ]
  },
  {
   "cell_type": "code",
   "execution_count": null,
   "metadata": {},
   "outputs": [],
   "source": []
  }
 ],
 "metadata": {
  "kernelspec": {
   "display_name": "Python 3",
   "language": "python",
   "name": "python3"
  },
  "language_info": {
   "codemirror_mode": {
    "name": "ipython",
    "version": 3
   },
   "file_extension": ".py",
   "mimetype": "text/x-python",
   "name": "python",
   "nbconvert_exporter": "python",
   "pygments_lexer": "ipython3",
   "version": "3.6.5"
  }
 },
 "nbformat": 4,
 "nbformat_minor": 2
}
